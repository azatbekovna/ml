{
  "cells": [
    {
      "cell_type": "code",
      "source": [
        "!pip3 install -U scikit-learn scipy matplotlib"
      ],
      "metadata": {
        "id": "8fXLzsyTdjH7",
        "collapsed": true
      },
      "execution_count": null,
      "outputs": []
    },
    {
      "cell_type": "markdown",
      "source": [
        "# New section"
      ],
      "metadata": {
        "id": "OojAsxmqerO2"
      }
    },
    {
      "cell_type": "code",
      "execution_count": null,
      "metadata": {
        "id": "nG2-mSphUQcg"
      },
      "outputs": [],
      "source": [
        "!pip3 install graphviz"
      ]
    },
    {
      "cell_type": "code",
      "execution_count": null,
      "metadata": {
        "id": "z5ctnLU4UQck"
      },
      "outputs": [],
      "source": [
        "from sklearn.model_selection import train_test_split\n",
        "import numpy as np\n",
        "import pandas as pd\n",
        "from sklearn.metrics import confusion_matrix, accuracy_score\n",
        "import graphviz\n",
        "import seaborn as sns\n",
        "import matplotlib.pyplot as plt"
      ]
    },
    {
      "cell_type": "code",
      "execution_count": null,
      "metadata": {
        "id": "IY9riQWxUQcl"
      },
      "outputs": [],
      "source": [
        "data = pd.read_csv('secondary_data.csv', delimiter=';')\n",
        "\n",
        "data_encoded = pd.get_dummies(data)\n",
        "data_encoded = data_encoded.astype(int)\n",
        "\n",
        "X = data_encoded.drop(['class_p', 'class_e'], axis=1)\n",
        "y = data_encoded['class_p']"
      ]
    },
    {
      "cell_type": "code",
      "execution_count": null,
      "metadata": {
        "id": "MwyXyXZ7UQcl"
      },
      "outputs": [],
      "source": [
        "class TreeNode:\n",
        "    def __init__(self, feature=None, threshold=None, left=None, right=None, value=None):\n",
        "        self.feature = feature\n",
        "        self.threshold = threshold\n",
        "        self.left = left\n",
        "        self.right = right\n",
        "        self.value = value\n",
        "\n",
        "    def is_leaf(self):\n",
        "        return self.value is not None # Returns True if the node is a leaf node\n",
        "\n",
        "class TreeModel:\n",
        "    def __init__(self, max_depth=None, max_leaf_nodes=None, entropy_threshold=None, split_function='gini', min_samples_split=2, feature_names=None):\n",
        "        self.max_depth = max_depth\n",
        "        self.max_leaf_nodes = max_leaf_nodes\n",
        "        self.entropy_threshold = entropy_threshold\n",
        "        self.split_function = split_function\n",
        "        self.min_samples_split = min_samples_split\n",
        "        self.root = None\n",
        "        self.leaf_count = 0\n",
        "        self.depth = 0\n",
        "        self.criterion_func = self._get_criterion_func(split_function)\n",
        "        self.feature_names = feature_names\n",
        "\n",
        "    def get_params(self, deep=True):\n",
        "        return {\n",
        "            'max_depth': self.max_depth,\n",
        "            'max_leaf_nodes': self.max_leaf_nodes,\n",
        "            'entropy_threshold': self.entropy_threshold,\n",
        "            'split_function': self.split_function,\n",
        "            'min_samples_split': self.min_samples_split,\n",
        "            'feature_names': self.feature_names\n",
        "        }\n",
        "\n",
        "    def set_params(self, **params):\n",
        "        for param, value in params.items():\n",
        "            setattr(self, param, value)\n",
        "        return self\n",
        "\n",
        "    # Helper method to get the specific criterion function based on input\n",
        "    def _get_criterion_func(self, method):\n",
        "        if method == 'scaled_entropy':\n",
        "            return self._scaled_entropy\n",
        "        elif method == 'gini':\n",
        "            return self._gini_impurity\n",
        "        elif method == 'squared':\n",
        "            return self._squared_impurity\n",
        "        raise ValueError(\"split_function must be 'scaled_entropy', 'gini', or 'squared'\")\n",
        "\n",
        "    # Method to fit the tree using the data provided (features and labels).\n",
        "    def fit(self, X, y):\n",
        "        self.leaf_count = 0\n",
        "        self.depth = 0\n",
        "        self.root = self._grow_tree(X, y)  # Start growing the tree from the root.\n",
        "\n",
        "    # Recursive function to grow tree from the provided data, starting at the given depth.\n",
        "    def _grow_tree(self, X, y, depth=0):\n",
        "        num_samples = y.size  # Number of samples in the current node.\n",
        "        if num_samples < self.min_samples_split or len(np.unique(y)) == 1:\n",
        "            return TreeNode(value=self._most_common_label(y))  # Return a leaf node if stopping conditions are met.\n",
        "\n",
        "        if self.max_depth is not None and depth >= self.max_depth:\n",
        "            return TreeNode(value=self._most_common_label(y))  # Limit tree depth.\n",
        "\n",
        "        current_entropy = self.criterion_func(y)\n",
        "        if self.max_leaf_nodes is not None and self.leaf_count >= self.max_leaf_nodes:\n",
        "            return TreeNode(value=self._most_common_label(y))  # Limit number of leaf nodes.\n",
        "\n",
        "        if self.entropy_threshold is not None and current_entropy < self.entropy_threshold:\n",
        "            return TreeNode(value=self._most_common_label(y))  # Stop if entropy is below the specified threshold.\n",
        "\n",
        "        self.depth = max(self.depth, depth)  # Update tree depth.\n",
        "        best_gain = -np.inf  # Initialize the best information gain found so far.\n",
        "        best_feat, best_thresh = None, None  # Initialize the best feature and threshold to split.\n",
        "\n",
        "        # Iterate over all features.\n",
        "        for feat_idx in range(X.shape[1]):\n",
        "            values, counts = np.unique(X[:, feat_idx], return_counts=True)  # Unique values and their counts in the feature.\n",
        "            for value in values:\n",
        "                left_mask = X[:, feat_idx] <= value  # Samples that go to the left child.\n",
        "                right_mask = ~left_mask  # Samples that go to the right child.\n",
        "                if np.sum(left_mask) < 2 or np.sum(right_mask)< 2:\n",
        "                    continue  # Skip splits that do not distribute the data.\n",
        "                gain = self._gain(y, left_mask, right_mask, current_entropy)  # Calculate information gain.\n",
        "                if gain > best_gain:  # Check if this split is better than the best so far.\n",
        "                    best_gain = gain\n",
        "                    best_feat, best_thresh = feat_idx, value\n",
        "\n",
        "        if best_feat is None:\n",
        "          return TreeNode(value=self._most_common_label(y))  # All features have been checked, return a leaf node if no split was found.\n",
        "\n",
        "        self.leaf_count += 1\n",
        "        left_mask = X[:, best_feat] <= best_thresh  # Left samples after finding the best split.\n",
        "        right_mask = ~left_mask  # Right samples.\n",
        "        left = self._grow_tree(X[left_mask], y[left_mask], depth + 1)  # Recursively grow left subtree.\n",
        "        right = self._grow_tree(X[right_mask], y[right_mask], depth + 1)  # Recursively grow right subtree.\n",
        "        return TreeNode(feature=best_feat, threshold=best_thresh, left=left, right=right)  # Return the current node with learned split.\n",
        "\n",
        "    # Helper to calculate information gain based on a split.\n",
        "    def _gain(self, y, left_mask, right_mask, parent_criterion):\n",
        "        n = y.size  # Total sample size.\n",
        "        n_left, n_right = np.sum(left_mask), np.sum(right_mask)  # Number of samples in each child.\n",
        "        return parent_criterion - (n_left / n * self.criterion_func(y[left_mask]) + n_right / n * self.criterion_func(y[right_mask]))\n",
        "\n",
        "    # Scaled entropy impurity calculation.\n",
        "    def _scaled_entropy(self, y):\n",
        "        probs = np.bincount(y, minlength=np.max(y)+1) / len(y)\n",
        "        return -0.5 * np.sum(probs * np.log2(probs + np.finfo(float).eps))\n",
        "\n",
        "    # Gini impurity calculation.\n",
        "    def _gini_impurity(self, y):\n",
        "        probs = np.bincount(y, minlength=np.max(y)+1) / len(y)\n",
        "        return 1.0 - np.sum(probs**2)\n",
        "\n",
        "    # Squared impurity calculation.\n",
        "    def _squared_impurity(self, y):\n",
        "        probs = np.bincount(y, minlength=np.max(y)+1) / len(y)\n",
        "        return np.sum(np.sqrt(probs * (1 - probs)))\n",
        "\n",
        "    # Method to predict the label of new samples.\n",
        "    def predict(self, X):\n",
        "        predictions = np.apply_along_axis(self._traverse_tree, 1, X, self.root)\n",
        "        return predictions\n",
        "\n",
        "    # Recursive helper to traverse the tree based on features until a leaf node is reached.\n",
        "    def _traverse_tree(self, x, node):\n",
        "        while not node.is_leaf():\n",
        "            node = node.left if x[node.feature] <= node.threshold else node.right\n",
        "        return node.value  # Return the classification result from the leaf.\n",
        "\n",
        "    def _most_common_label(self, y):\n",
        "        return np.argmax(np.bincount(y))\n",
        "\n",
        "    def visualize_tree(self):\n",
        "        def add_nodes_edges(node, dot=None):\n",
        "            if dot is None:\n",
        "                dot = graphviz.Digraph()\n",
        "                label = (\n",
        "                    f\"{'Leaf' if node.is_leaf() else 'Node'}\"\n",
        "                    f\"{'Feature=' + str(node.feature) if node.feature is not None else ''}\"\n",
        "                    f\"{'Threshold=' + str(node.threshold) if node.threshold is not None else ''}\"\n",
        "                )\n",
        "                dot.node(name=str(id(node)), label=label, shape='box' if node.is_leaf() else 'ellipse')\n",
        "\n",
        "            if node.left:\n",
        "                label_left = (\n",
        "                    f\"{'Leaf' if node.left.is_leaf() else 'Node'}\"\n",
        "                    f\"{'Feature=' + str(node.left.feature) if node.left.feature is not None else ''}\"\n",
        "                    f\"{'Threshold=' + str(node.left.threshold) if node.left.threshold is not None else ''}\"\n",
        "                )\n",
        "                dot.node(name=str(id(node.left)), label=label_left, shape='box' if node.left.is_leaf() else 'ellipse')\n",
        "                dot.edge(str(id(node)), str(id(node.left)), label=\"True\")\n",
        "                add_nodes_edges(node.left, dot=dot)\n",
        "\n",
        "            if node.right:\n",
        "                label_right = (\n",
        "                    f\"{'Leaf' if node.right.is_leaf() else 'Node'}\"\n",
        "                    f\"{'Feature=' + str(node.right.feature) if node.right.feature is not None else ''}\"\n",
        "                    f\"{'Threshold=' + str(node.right.threshold) if node.right.threshold is not None else ''}\"\n",
        "                )\n",
        "                dot.node(name=str(id(node.right)), label=label_right, shape='box' if node.right.is_leaf() else 'ellipse')\n",
        "                dot.edge(str(id(node)), str(id(node.right)), label=\"False\")\n",
        "                add_nodes_edges(node.right, dot=dot)\n",
        "\n",
        "            return dot\n",
        "\n",
        "        # Starting the graph from root\n",
        "        dot = add_nodes_edges(self.root)\n",
        "        return dot"
      ]
    },
    {
      "cell_type": "code",
      "execution_count": null,
      "metadata": {
        "id": "HtCt_CjmUQcm",
        "outputId": "05a63c9d-0c78-4785-de6a-1e127eebc9ac",
        "colab": {
          "base_uri": "https://localhost:8080/"
        }
      },
      "outputs": [
        {
          "output_type": "stream",
          "name": "stdout",
          "text": [
            "Best parameters: {'entropy_threshold': 0.1, 'max_depth': None, 'min_samples_split': 2}\n",
            "Best cross-validation score: 0.98\n"
          ]
        }
      ],
      "source": [
        "from sklearn.model_selection import GridSearchCV\n",
        "\n",
        "# Assume TreeModel has been adapted to fit into the sklearn framework\n",
        "param_grid = {\n",
        "    'max_depth': [None, 10, 20, 30],\n",
        "    'min_samples_split': [2, 5, 10],\n",
        "    'entropy_threshold': [0.1, 0.2, 0.3]\n",
        "}\n",
        "X_train, X_test, y_train, y_test = train_test_split(X, y, test_size=0.2, stratify=y, random_state=42)\n",
        "\n",
        "tree = TreeModel(\n",
        "    max_depth=None,\n",
        "    max_leaf_nodes=None,\n",
        "    entropy_threshold=0.2,\n",
        "    split_function=\"gini\",\n",
        "    min_samples_split=2,\n",
        "    feature_names=X.columns,\n",
        ")\n",
        "\n",
        "grid_search = GridSearchCV(tree, param_grid=param_grid, cv=5, scoring='accuracy')\n",
        "grid_search.fit(X_train.values, y_train.values)\n",
        "\n",
        "print(\"Best parameters:\", grid_search.best_params_)\n",
        "print(\"Best cross-validation score: {:.2f}\".format(grid_search.best_score_))"
      ]
    },
    {
      "cell_type": "code",
      "execution_count": null,
      "metadata": {
        "colab": {
          "base_uri": "https://localhost:8080/",
          "height": 677
        },
        "id": "1AhZCUJwUQcm",
        "outputId": "5ee2c7ab-36d9-49c5-be38-7d140ea52f9c"
      },
      "outputs": [
        {
          "output_type": "stream",
          "name": "stdout",
          "text": [
            "train_acc: 0.9803090778835329\n",
            "val_accuracy: 0.978876698870149\n"
          ]
        },
        {
          "output_type": "display_data",
          "data": {
            "text/plain": [
              "<Figure size 1000x700 with 2 Axes>"
            ],
            "image/png": "[encoded data removed]"
          },
          "metadata": {}
        }
      ],
      "source": [
        "tree = TreeModel(\n",
        "    max_depth=None,\n",
        "    max_leaf_nodes=None,\n",
        "    entropy_threshold=0.1,\n",
        "    split_function=\"gini\",\n",
        "    min_samples_split=2,\n",
        "    feature_names=X.columns,\n",
        ")\n",
        "\n",
        "tree.fit(X_train.values, y_train.values)\n",
        "y_train_pred = tree.predict(X_train.values)\n",
        "y_test_pred = tree.predict(X_test.values)\n",
        "\n",
        "train_acc = accuracy_score(y_train, y_train_pred)\n",
        "val_accuracy = accuracy_score(y_test, y_test_pred)\n",
        "print('train_acc:', train_acc)\n",
        "print('val_accuracy:', val_accuracy)\n",
        "\n",
        "conf_matrix = confusion_matrix(y_test.values, y_test_pred)\n",
        "\n",
        "plt.figure(figsize=(10, 7))\n",
        "sns.heatmap(conf_matrix, annot=True, fmt='d', xticklabels=['Class 0', 'Class 1'],\n",
        "            yticklabels=['Class 0', 'Class 1'])\n",
        "plt.xlabel('Predicted')\n",
        "plt.ylabel('Actual')\n",
        "plt.title('Confusion Matrix')\n",
        "plt.show()"
      ]
    },
    {
      "cell_type": "code",
      "execution_count": null,
      "metadata": {
        "id": "NoRKEanKUQcn"
      },
      "outputs": [],
      "source": [
        "dot = graphviz.Digraph()\n",
        "dot = tree.visualize_tree()\n",
        "\n",
        "dot.render(format='png', view=True)"
      ]
    },
    {
      "cell_type": "code",
      "execution_count": null,
      "metadata": {
        "id": "KjClxn12UQcn"
      },
      "outputs": [],
      "source": []
    }
  ],
  "metadata": {
    "colab": {
      "provenance": []
    },
    "kernelspec": {
      "display_name": "Python 3 (ipykernel)",
      "language": "python",
      "name": "python3"
    },
    "language_info": {
      "codemirror_mode": {
        "name": "ipython",
        "version": 3
      },
      "file_extension": ".py",
      "mimetype": "text/x-python",
      "name": "python",
      "nbconvert_exporter": "python",
      "pygments_lexer": "ipython3",
      "version": "3.12.4"
    }
  },
  "nbformat": 4,
  "nbformat_minor": 0
}